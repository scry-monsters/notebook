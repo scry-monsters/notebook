{
 "cells": [
  {
   "cell_type": "code",
   "execution_count": 57,
   "id": "21cae51f",
   "metadata": {},
   "outputs": [],
   "source": [
    "import pandas as pd\n",
    "from sklearn.tree import DecisionTreeClassifier\n",
    "from sklearn import tree\n",
    "data_f = pd.read_csv(\"music.csv\")\n",
    "# Input set, by convention is called X\n",
    "X = data_f.drop(columns=['genre'])\n",
    "# Outputut set, by convention is called y\n",
    "y = data_f[\"genre\"]\n",
    "\n",
    "model = DecisionTreeClassifier()\n",
    "model.fit(X, y)\n",
    "\n",
    "tree.export_graphviz(model, \n",
    "                     out_file=\"music.dot\", \n",
    "                     feature_names=['age', 'gender'],\n",
    "                     class_names=sorted(y.unique()), \n",
    "                     label=\"all\", rounded=True, \n",
    "                     filled=True)"
   ]
  },
  {
   "cell_type": "code",
   "execution_count": null,
   "id": "7ec8821c",
   "metadata": {},
   "outputs": [],
   "source": []
  }
 ],
 "metadata": {
  "kernelspec": {
   "display_name": "Python 3 (ipykernel)",
   "language": "python",
   "name": "python3"
  },
  "language_info": {
   "codemirror_mode": {
    "name": "ipython",
    "version": 3
   },
   "file_extension": ".py",
   "mimetype": "text/x-python",
   "name": "python",
   "nbconvert_exporter": "python",
   "pygments_lexer": "ipython3",
   "version": "3.9.13"
  }
 },
 "nbformat": 4,
 "nbformat_minor": 5
}
