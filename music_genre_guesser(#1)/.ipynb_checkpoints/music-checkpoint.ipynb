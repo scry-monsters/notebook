{
 "cells": [
  {
   "cell_type": "code",
   "execution_count": 46,
   "id": "a8f9c304",
   "metadata": {},
   "outputs": [
    {
     "data": {
      "text/plain": [
       "1.0"
      ]
     },
     "execution_count": 46,
     "metadata": {},
     "output_type": "execute_result"
    }
   ],
   "source": [
    "import pandas as pd\n",
    "from sklearn.tree import DecisionTreeClassifier\n",
    "from sklearn.model_selection import train_test_split\n",
    "from sklearn.metrics import accuracy_score\n",
    "# from sklearn import tree\n",
    "# import joblib \n",
    "\n",
    "music_data = pd.read_csv(\"music.csv\")\n",
    "X = music_data.drop(columns=['genre'])\n",
    "y = music_data['genre']\n",
    "#We split our data into training and testing sets, we allocate 20(0.2) percent of each for testing \n",
    "X_train, X_test, y_train, y_test = train_test_split(X, y, test_size=0.2)\n",
    "\n",
    "model = DecisionTreeClassifier()\n",
    "model.fit(X_train, y_train)\n",
    "#-------------------------------------------------\n",
    "#The code below helps us visualise our trained model as a binary tree\n",
    "# tree.export_graphviz(model, \n",
    "#                      out_file=\"music-genre.dot\", \n",
    "#                      feature_names=[\"age\", \"gender\"],\n",
    "#                      class_names=sorted(y.unique()),\n",
    "#                      label=\"all\",\n",
    "#                      rounded=True,\n",
    "#                      filled=True\n",
    "#                     )\n",
    "#-------------------------------------------------\n",
    "\n",
    "#-------------------------------------------------\n",
    "#The code below loads a trained model so I you wouldn't have to repeat the code above each time\n",
    "# model = joblib.load('music_genre_guesser.joblib')\n",
    "#-------------------------------------------------\n",
    "\n",
    "predictions = model.predict(X_test)\n",
    "predictions\n",
    "\n",
    "score = accuracy_score(y_test, predictions)\n",
    "score"
   ]
  },
  {
   "cell_type": "code",
   "execution_count": null,
   "id": "f8899351",
   "metadata": {},
   "outputs": [],
   "source": []
  }
 ],
 "metadata": {
  "kernelspec": {
   "display_name": "Python 3 (ipykernel)",
   "language": "python",
   "name": "python3"
  },
  "language_info": {
   "codemirror_mode": {
    "name": "ipython",
    "version": 3
   },
   "file_extension": ".py",
   "mimetype": "text/x-python",
   "name": "python",
   "nbconvert_exporter": "python",
   "pygments_lexer": "ipython3",
   "version": "3.9.13"
  }
 },
 "nbformat": 4,
 "nbformat_minor": 5
}
